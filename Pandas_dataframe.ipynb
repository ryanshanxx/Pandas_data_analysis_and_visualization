{
 "cells": [
  {
   "cell_type": "markdown",
   "metadata": {},
   "source": [
    "Use your quandl account to down load the historical price series for \n",
    "    \n",
    "    AMZN\n",
    "    XOM\n",
    "\n",
    "You should retrieve at least 2 years worth of daily [open, high, low, close, adj_close] series for each of these stocks."
   ]
  },
  {
   "cell_type": "code",
   "execution_count": 7,
   "metadata": {
    "scrolled": true
   },
   "outputs": [
    {
     "data": {
      "text/html": [
       "<div>\n",
       "<style scoped>\n",
       "    .dataframe tbody tr th:only-of-type {\n",
       "        vertical-align: middle;\n",
       "    }\n",
       "\n",
       "    .dataframe tbody tr th {\n",
       "        vertical-align: top;\n",
       "    }\n",
       "\n",
       "    .dataframe thead th {\n",
       "        text-align: right;\n",
       "    }\n",
       "</style>\n",
       "<table border=\"1\" class=\"dataframe\">\n",
       "  <thead>\n",
       "    <tr style=\"text-align: right;\">\n",
       "      <th></th>\n",
       "      <th>ticker</th>\n",
       "      <th>open</th>\n",
       "      <th>high</th>\n",
       "      <th>low</th>\n",
       "      <th>close</th>\n",
       "      <th>adj_close</th>\n",
       "    </tr>\n",
       "    <tr>\n",
       "      <th>date</th>\n",
       "      <th></th>\n",
       "      <th></th>\n",
       "      <th></th>\n",
       "      <th></th>\n",
       "      <th></th>\n",
       "      <th></th>\n",
       "    </tr>\n",
       "  </thead>\n",
       "  <tbody>\n",
       "    <tr>\n",
       "      <th>2016-01-04</th>\n",
       "      <td>XOM</td>\n",
       "      <td>77.50</td>\n",
       "      <td>77.940</td>\n",
       "      <td>76.4550</td>\n",
       "      <td>77.46</td>\n",
       "      <td>72.070110</td>\n",
       "    </tr>\n",
       "    <tr>\n",
       "      <th>2016-01-04</th>\n",
       "      <td>AMZN</td>\n",
       "      <td>656.29</td>\n",
       "      <td>657.715</td>\n",
       "      <td>627.5100</td>\n",
       "      <td>636.99</td>\n",
       "      <td>636.990000</td>\n",
       "    </tr>\n",
       "    <tr>\n",
       "      <th>2016-01-05</th>\n",
       "      <td>AMZN</td>\n",
       "      <td>646.86</td>\n",
       "      <td>646.910</td>\n",
       "      <td>627.6500</td>\n",
       "      <td>633.79</td>\n",
       "      <td>633.790000</td>\n",
       "    </tr>\n",
       "    <tr>\n",
       "      <th>2016-01-05</th>\n",
       "      <td>XOM</td>\n",
       "      <td>77.19</td>\n",
       "      <td>78.140</td>\n",
       "      <td>76.9223</td>\n",
       "      <td>78.12</td>\n",
       "      <td>72.684185</td>\n",
       "    </tr>\n",
       "    <tr>\n",
       "      <th>2016-01-06</th>\n",
       "      <td>XOM</td>\n",
       "      <td>76.64</td>\n",
       "      <td>77.640</td>\n",
       "      <td>76.5900</td>\n",
       "      <td>77.47</td>\n",
       "      <td>72.079414</td>\n",
       "    </tr>\n",
       "  </tbody>\n",
       "</table>\n",
       "</div>"
      ],
      "text/plain": [
       "           ticker    open     high       low   close   adj_close\n",
       "date                                                            \n",
       "2016-01-04    XOM   77.50   77.940   76.4550   77.46   72.070110\n",
       "2016-01-04   AMZN  656.29  657.715  627.5100  636.99  636.990000\n",
       "2016-01-05   AMZN  646.86  646.910  627.6500  633.79  633.790000\n",
       "2016-01-05    XOM   77.19   78.140   76.9223   78.12   72.684185\n",
       "2016-01-06    XOM   76.64   77.640   76.5900   77.47   72.079414"
      ]
     },
     "execution_count": 7,
     "metadata": {},
     "output_type": "execute_result"
    }
   ],
   "source": [
    "%matplotlib inline\n",
    "import matplotlib.pyplot as plt\n",
    "import numpy as np\n",
    "import pandas as pd\n",
    "import quandl\n",
    "\n",
    "quandl.ApiConfig.api_key = 'YxoLj8ezeNxXnnB4-oKX'\n",
    "data = quandl.get_table('WIKI/PRICES', \n",
    "                        qopts = { 'columns': ['date', 'ticker', 'open','high','low','close','adj_close'] }, \n",
    "                        ticker = ['AMZN','XOM'], \n",
    "                        date = { 'gte': '2016-01-01', 'lte': '2018-03-27' })\n",
    "data = data.set_index('date')\n",
    "data = data.sort_index()\n",
    "data.head()"
   ]
  },
  {
   "cell_type": "markdown",
   "metadata": {},
   "source": [
    "### Part I"
   ]
  },
  {
   "cell_type": "markdown",
   "metadata": {},
   "source": [
    "Resample your time series in monthly frequency to get the corresponding **monthly** [open, high, low, close, adj_close] time series (you would need to resample with **different resample functions** based on if it's open, high, low, or close time series)"
   ]
  },
  {
   "cell_type": "code",
   "execution_count": 8,
   "metadata": {
    "scrolled": true
   },
   "outputs": [
    {
     "data": {
      "text/html": [
       "<div>\n",
       "<style scoped>\n",
       "    .dataframe tbody tr th:only-of-type {\n",
       "        vertical-align: middle;\n",
       "    }\n",
       "\n",
       "    .dataframe tbody tr th {\n",
       "        vertical-align: top;\n",
       "    }\n",
       "\n",
       "    .dataframe thead th {\n",
       "        text-align: right;\n",
       "    }\n",
       "</style>\n",
       "<table border=\"1\" class=\"dataframe\">\n",
       "  <thead>\n",
       "    <tr style=\"text-align: right;\">\n",
       "      <th></th>\n",
       "      <th>ticker</th>\n",
       "      <th>open</th>\n",
       "      <th>high</th>\n",
       "      <th>low</th>\n",
       "      <th>close</th>\n",
       "      <th>adj_close</th>\n",
       "    </tr>\n",
       "    <tr>\n",
       "      <th>date</th>\n",
       "      <th></th>\n",
       "      <th></th>\n",
       "      <th></th>\n",
       "      <th></th>\n",
       "      <th></th>\n",
       "      <th></th>\n",
       "    </tr>\n",
       "  </thead>\n",
       "  <tbody>\n",
       "    <tr>\n",
       "      <th>2016-01-31</th>\n",
       "      <td>XOM</td>\n",
       "      <td>77.50</td>\n",
       "      <td>79.92</td>\n",
       "      <td>71.55</td>\n",
       "      <td>77.85</td>\n",
       "      <td>72.432972</td>\n",
       "    </tr>\n",
       "    <tr>\n",
       "      <th>2016-02-29</th>\n",
       "      <td>XOM</td>\n",
       "      <td>76.66</td>\n",
       "      <td>83.44</td>\n",
       "      <td>73.55</td>\n",
       "      <td>80.15</td>\n",
       "      <td>75.252730</td>\n",
       "    </tr>\n",
       "    <tr>\n",
       "      <th>2016-03-31</th>\n",
       "      <td>XOM</td>\n",
       "      <td>80.56</td>\n",
       "      <td>85.10</td>\n",
       "      <td>80.31</td>\n",
       "      <td>83.59</td>\n",
       "      <td>78.482542</td>\n",
       "    </tr>\n",
       "    <tr>\n",
       "      <th>2016-04-30</th>\n",
       "      <td>XOM</td>\n",
       "      <td>82.40</td>\n",
       "      <td>89.78</td>\n",
       "      <td>81.99</td>\n",
       "      <td>88.40</td>\n",
       "      <td>82.998644</td>\n",
       "    </tr>\n",
       "    <tr>\n",
       "      <th>2016-05-31</th>\n",
       "      <td>XOM</td>\n",
       "      <td>88.24</td>\n",
       "      <td>90.46</td>\n",
       "      <td>87.23</td>\n",
       "      <td>89.02</td>\n",
       "      <td>84.286601</td>\n",
       "    </tr>\n",
       "  </tbody>\n",
       "</table>\n",
       "</div>"
      ],
      "text/plain": [
       "           ticker   open   high    low  close  adj_close\n",
       "date                                                    \n",
       "2016-01-31    XOM  77.50  79.92  71.55  77.85  72.432972\n",
       "2016-02-29    XOM  76.66  83.44  73.55  80.15  75.252730\n",
       "2016-03-31    XOM  80.56  85.10  80.31  83.59  78.482542\n",
       "2016-04-30    XOM  82.40  89.78  81.99  88.40  82.998644\n",
       "2016-05-31    XOM  88.24  90.46  87.23  89.02  84.286601"
      ]
     },
     "execution_count": 8,
     "metadata": {},
     "output_type": "execute_result"
    }
   ],
   "source": [
    "XOM = data[data['ticker']=='XOM']\n",
    "AMZN = data[data['ticker']=='AMZN']\n",
    "M_XOM = XOM.resample('M').agg({'open':'first', 'high':'max', \n",
    "                               'low': 'min', 'close':'last',\n",
    "                               'adj_close':'last'})\n",
    "M_AMZN = AMZN.resample('M').agg({'open':'first', 'high':'max', \n",
    "                               'low': 'min', 'close':'last',\n",
    "                               'adj_close':'last'})\n",
    "M_XOM.insert(0,'ticker','XOM')\n",
    "M_AMZN.insert(0,'ticker','AMZN')\n",
    "price = pd.concat([M_XOM,M_AMZN])\n",
    "price.head()"
   ]
  },
  {
   "cell_type": "markdown",
   "metadata": {},
   "source": [
    "Use ErrorBar() plotting function to plot a *candlestick* chart for one or both of the above stocks"
   ]
  },
  {
   "cell_type": "code",
   "execution_count": 9,
   "metadata": {},
   "outputs": [
    {
     "name": "stderr",
     "output_type": "stream",
     "text": [
      "C:\\Users\\ryans\\Anaconda3\\lib\\site-packages\\pandas\\plotting\\_converter.py:129: FutureWarning: Using an implicitly registered datetime converter for a matplotlib plotting method. The converter was registered by pandas on import. Future versions of pandas will require you to explicitly register matplotlib converters.\n",
      "\n",
      "To register the converters:\n",
      "\t>>> from pandas.plotting import register_matplotlib_converters\n",
      "\t>>> register_matplotlib_converters()\n",
      "  warnings.warn(msg, FutureWarning)\n"
     ]
    },
    {
     "data": {
      "text/plain": [
       "Text(0.5, 1.0, 'XOM')"
      ]
     },
     "execution_count": 9,
     "metadata": {},
     "output_type": "execute_result"
    },
    {
     "data": {
      "image/png": "[encoded data removed]",
      "text/plain": [
       "<Figure size 576x432 with 1 Axes>"
      ]
     },
     "metadata": {},
     "output_type": "display_data"
    }
   ],
   "source": [
    "plt.style.use('seaborn-whitegrid')\n",
    "up = M_XOM[M_XOM['open']<M_XOM['close']]\n",
    "down = M_XOM[M_XOM['open']>=M_XOM['close']]\n",
    "ticks = pd.date_range(start='2016-01-31',end='2018-03-31',periods=6)\n",
    "\n",
    "fig,ax = plt.subplots(figsize=(8,6))\n",
    "ax.errorbar(M_XOM.index.get_level_values(0),M_XOM.high,yerr=[M_XOM.high-M_XOM.low,[0]*len(M_XOM)],fmt='none',linewidth=1,color='k')\n",
    "ax.errorbar(up.index.get_level_values(0),up.open,yerr=[up.open-up.close,[0]*len(up)],fmt='none',linewidth=10,color='g')\n",
    "ax.errorbar(down.index.get_level_values(0),down.open,yerr=[down.open-down.close,[0]*len(down)],fmt='none',linewidth=10,color='r')\n",
    "ax.set_xticks(ticks)\n",
    "ax.set_xticklabels(map(lambda x:x[:10],map(str,ticks)))\n",
    "ax.set_xlabel('Date',fontsize=14)\n",
    "ax.set_ylabel('Price',fontsize=14)\n",
    "ax.set_title('XOM',fontsize=16)\n"
   ]
  },
  {
   "cell_type": "code",
   "execution_count": 10,
   "metadata": {},
   "outputs": [
    {
     "data": {
      "text/plain": [
       "Text(0.5, 1.0, 'AMZN')"
      ]
     },
     "execution_count": 10,
     "metadata": {},
     "output_type": "execute_result"
    },
    {
     "data": {
      "image/png": "[encoded data removed]",
      "text/plain": [
       "<Figure size 576x432 with 1 Axes>"
      ]
     },
     "metadata": {},
     "output_type": "display_data"
    }
   ],
   "source": [
    "plt.style.use('seaborn-whitegrid')\n",
    "up = M_AMZN[M_AMZN['open']<M_AMZN['close']]\n",
    "down = M_AMZN[M_AMZN['open']>=M_AMZN['close']]\n",
    "ticks = pd.date_range(start='2016-01-31',end='2018-03-31',periods=6)\n",
    "\n",
    "fig,ax = plt.subplots(figsize=(8,6))\n",
    "ax.errorbar(M_AMZN.index.get_level_values(0),M_AMZN.high,yerr=[M_AMZN.high-M_AMZN.low,[0]*len(M_AMZN)],fmt='none',linewidth=1,color='k')\n",
    "ax.errorbar(up.index.get_level_values(0),up.open,yerr=[up.open-up.close,[0]*len(up)],fmt='none',linewidth=10,color='g')\n",
    "ax.errorbar(down.index.get_level_values(0),down.open,yerr=[down.open-down.close,[0]*len(down)],fmt='none',linewidth=10,color='r')\n",
    "ax.set_xticks(ticks)\n",
    "ax.set_xticklabels(map(lambda x:x[:10],map(str,ticks)))\n",
    "ax.set_xlabel('Date',fontsize=14)\n",
    "ax.set_ylabel('Price',fontsize=14)\n",
    "ax.set_title('AMZN',fontsize=16)\n"
   ]
  },
  {
   "cell_type": "markdown",
   "metadata": {},
   "source": [
    "### Part II "
   ]
  },
  {
   "cell_type": "markdown",
   "metadata": {},
   "source": [
    "Generate the daily return time series for each stock. Make sure the two time series are **synchronous**."
   ]
  },
  {
   "cell_type": "code",
   "execution_count": 11,
   "metadata": {},
   "outputs": [],
   "source": [
    "XOM.insert(6,'return',XOM['adj_close'].pct_change())\n",
    "AMZN.insert(6,'return',AMZN['adj_close'].pct_change())"
   ]
  },
  {
   "cell_type": "code",
   "execution_count": 12,
   "metadata": {
    "scrolled": true
   },
   "outputs": [
    {
     "data": {
      "text/html": [
       "<div>\n",
       "<style scoped>\n",
       "    .dataframe tbody tr th:only-of-type {\n",
       "        vertical-align: middle;\n",
       "    }\n",
       "\n",
       "    .dataframe tbody tr th {\n",
       "        vertical-align: top;\n",
       "    }\n",
       "\n",
       "    .dataframe thead th {\n",
       "        text-align: right;\n",
       "    }\n",
       "</style>\n",
       "<table border=\"1\" class=\"dataframe\">\n",
       "  <thead>\n",
       "    <tr style=\"text-align: right;\">\n",
       "      <th></th>\n",
       "      <th>ticker</th>\n",
       "      <th>open</th>\n",
       "      <th>high</th>\n",
       "      <th>low</th>\n",
       "      <th>close</th>\n",
       "      <th>adj_close</th>\n",
       "      <th>return</th>\n",
       "    </tr>\n",
       "    <tr>\n",
       "      <th>date</th>\n",
       "      <th></th>\n",
       "      <th></th>\n",
       "      <th></th>\n",
       "      <th></th>\n",
       "      <th></th>\n",
       "      <th></th>\n",
       "      <th></th>\n",
       "    </tr>\n",
       "  </thead>\n",
       "  <tbody>\n",
       "    <tr>\n",
       "      <th>2016-01-04</th>\n",
       "      <td>XOM</td>\n",
       "      <td>77.50</td>\n",
       "      <td>77.94</td>\n",
       "      <td>76.4550</td>\n",
       "      <td>77.46</td>\n",
       "      <td>72.070110</td>\n",
       "      <td>NaN</td>\n",
       "    </tr>\n",
       "    <tr>\n",
       "      <th>2016-01-05</th>\n",
       "      <td>XOM</td>\n",
       "      <td>77.19</td>\n",
       "      <td>78.14</td>\n",
       "      <td>76.9223</td>\n",
       "      <td>78.12</td>\n",
       "      <td>72.684185</td>\n",
       "      <td>0.008521</td>\n",
       "    </tr>\n",
       "    <tr>\n",
       "      <th>2016-01-06</th>\n",
       "      <td>XOM</td>\n",
       "      <td>76.64</td>\n",
       "      <td>77.64</td>\n",
       "      <td>76.5900</td>\n",
       "      <td>77.47</td>\n",
       "      <td>72.079414</td>\n",
       "      <td>-0.008321</td>\n",
       "    </tr>\n",
       "    <tr>\n",
       "      <th>2016-01-07</th>\n",
       "      <td>XOM</td>\n",
       "      <td>76.06</td>\n",
       "      <td>77.99</td>\n",
       "      <td>75.9000</td>\n",
       "      <td>76.23</td>\n",
       "      <td>70.925697</td>\n",
       "      <td>-0.016006</td>\n",
       "    </tr>\n",
       "    <tr>\n",
       "      <th>2016-01-08</th>\n",
       "      <td>XOM</td>\n",
       "      <td>76.35</td>\n",
       "      <td>76.65</td>\n",
       "      <td>74.5000</td>\n",
       "      <td>74.69</td>\n",
       "      <td>69.492854</td>\n",
       "      <td>-0.020202</td>\n",
       "    </tr>\n",
       "  </tbody>\n",
       "</table>\n",
       "</div>"
      ],
      "text/plain": [
       "           ticker   open   high      low  close  adj_close    return\n",
       "date                                                                \n",
       "2016-01-04    XOM  77.50  77.94  76.4550  77.46  72.070110       NaN\n",
       "2016-01-05    XOM  77.19  78.14  76.9223  78.12  72.684185  0.008521\n",
       "2016-01-06    XOM  76.64  77.64  76.5900  77.47  72.079414 -0.008321\n",
       "2016-01-07    XOM  76.06  77.99  75.9000  76.23  70.925697 -0.016006\n",
       "2016-01-08    XOM  76.35  76.65  74.5000  74.69  69.492854 -0.020202"
      ]
     },
     "execution_count": 12,
     "metadata": {},
     "output_type": "execute_result"
    }
   ],
   "source": [
    "XOM.head()"
   ]
  },
  {
   "cell_type": "code",
   "execution_count": 13,
   "metadata": {
    "scrolled": true
   },
   "outputs": [
    {
     "data": {
      "text/html": [
       "<div>\n",
       "<style scoped>\n",
       "    .dataframe tbody tr th:only-of-type {\n",
       "        vertical-align: middle;\n",
       "    }\n",
       "\n",
       "    .dataframe tbody tr th {\n",
       "        vertical-align: top;\n",
       "    }\n",
       "\n",
       "    .dataframe thead th {\n",
       "        text-align: right;\n",
       "    }\n",
       "</style>\n",
       "<table border=\"1\" class=\"dataframe\">\n",
       "  <thead>\n",
       "    <tr style=\"text-align: right;\">\n",
       "      <th></th>\n",
       "      <th>ticker</th>\n",
       "      <th>open</th>\n",
       "      <th>high</th>\n",
       "      <th>low</th>\n",
       "      <th>close</th>\n",
       "      <th>adj_close</th>\n",
       "      <th>return</th>\n",
       "    </tr>\n",
       "    <tr>\n",
       "      <th>date</th>\n",
       "      <th></th>\n",
       "      <th></th>\n",
       "      <th></th>\n",
       "      <th></th>\n",
       "      <th></th>\n",
       "      <th></th>\n",
       "      <th></th>\n",
       "    </tr>\n",
       "  </thead>\n",
       "  <tbody>\n",
       "    <tr>\n",
       "      <th>2016-01-04</th>\n",
       "      <td>AMZN</td>\n",
       "      <td>656.29</td>\n",
       "      <td>657.715</td>\n",
       "      <td>627.51</td>\n",
       "      <td>636.99</td>\n",
       "      <td>636.99</td>\n",
       "      <td>NaN</td>\n",
       "    </tr>\n",
       "    <tr>\n",
       "      <th>2016-01-05</th>\n",
       "      <td>AMZN</td>\n",
       "      <td>646.86</td>\n",
       "      <td>646.910</td>\n",
       "      <td>627.65</td>\n",
       "      <td>633.79</td>\n",
       "      <td>633.79</td>\n",
       "      <td>-0.005024</td>\n",
       "    </tr>\n",
       "    <tr>\n",
       "      <th>2016-01-06</th>\n",
       "      <td>AMZN</td>\n",
       "      <td>622.00</td>\n",
       "      <td>639.790</td>\n",
       "      <td>620.31</td>\n",
       "      <td>632.65</td>\n",
       "      <td>632.65</td>\n",
       "      <td>-0.001799</td>\n",
       "    </tr>\n",
       "    <tr>\n",
       "      <th>2016-01-07</th>\n",
       "      <td>AMZN</td>\n",
       "      <td>621.80</td>\n",
       "      <td>630.000</td>\n",
       "      <td>605.21</td>\n",
       "      <td>607.94</td>\n",
       "      <td>607.94</td>\n",
       "      <td>-0.039058</td>\n",
       "    </tr>\n",
       "    <tr>\n",
       "      <th>2016-01-08</th>\n",
       "      <td>AMZN</td>\n",
       "      <td>619.66</td>\n",
       "      <td>624.140</td>\n",
       "      <td>606.00</td>\n",
       "      <td>607.05</td>\n",
       "      <td>607.05</td>\n",
       "      <td>-0.001464</td>\n",
       "    </tr>\n",
       "  </tbody>\n",
       "</table>\n",
       "</div>"
      ],
      "text/plain": [
       "           ticker    open     high     low   close  adj_close    return\n",
       "date                                                                   \n",
       "2016-01-04   AMZN  656.29  657.715  627.51  636.99     636.99       NaN\n",
       "2016-01-05   AMZN  646.86  646.910  627.65  633.79     633.79 -0.005024\n",
       "2016-01-06   AMZN  622.00  639.790  620.31  632.65     632.65 -0.001799\n",
       "2016-01-07   AMZN  621.80  630.000  605.21  607.94     607.94 -0.039058\n",
       "2016-01-08   AMZN  619.66  624.140  606.00  607.05     607.05 -0.001464"
      ]
     },
     "execution_count": 13,
     "metadata": {},
     "output_type": "execute_result"
    }
   ],
   "source": [
    "AMZN.head()"
   ]
  },
  {
   "cell_type": "markdown",
   "metadata": {},
   "source": [
    "Use scatter plot to plot daily return of AMZN against that of XOM"
   ]
  },
  {
   "cell_type": "code",
   "execution_count": 14,
   "metadata": {},
   "outputs": [
    {
     "data": {
      "text/plain": [
       "Text(0, 0.5, 'AMZN')"
      ]
     },
     "execution_count": 14,
     "metadata": {},
     "output_type": "execute_result"
    },
    {
     "data": {
      "image/png": "[encoded data removed]",
      "text/plain": [
       "<Figure size 432x288 with 1 Axes>"
      ]
     },
     "metadata": {},
     "output_type": "display_data"
    }
   ],
   "source": [
    "plt.scatter(XOM['return'][2:],AMZN['return'][1:])\n",
    "plt.xlabel('XOM',fontsize=12)\n",
    "plt.ylabel('AMZN',fontsize=12)"
   ]
  },
  {
   "cell_type": "markdown",
   "metadata": {},
   "source": [
    "Calculate the return correlation between them "
   ]
  },
  {
   "cell_type": "code",
   "execution_count": 15,
   "metadata": {},
   "outputs": [
    {
     "data": {
      "text/plain": [
       "array([[1.        , 0.00668238],\n",
       "       [0.00668238, 1.        ]])"
      ]
     },
     "execution_count": 15,
     "metadata": {},
     "output_type": "execute_result"
    }
   ],
   "source": [
    "np.corrcoef(AMZN['return'][1:],XOM['return'][2:])"
   ]
  },
  {
   "cell_type": "markdown",
   "metadata": {},
   "source": [
    "Use least-squares method to find the regression coefficients $\\beta, a$: $r_{AMZN} = \\beta r_{XOM} + a$\n"
   ]
  },
  {
   "cell_type": "code",
   "execution_count": 16,
   "metadata": {},
   "outputs": [
    {
     "name": "stderr",
     "output_type": "stream",
     "text": [
      "C:\\Users\\ryans\\Anaconda3\\lib\\site-packages\\ipykernel_launcher.py:3: FutureWarning: `rcond` parameter will change to the default of machine precision times ``max(M, N)`` where M and N are the input matrix dimensions.\n",
      "To use the future default and silence this warning we advise to pass `rcond=None`, to keep using the old, explicitly pass `rcond=-1`.\n",
      "  This is separate from the ipykernel package so we can avoid doing imports until\n"
     ]
    },
    {
     "data": {
      "text/plain": [
       "(0.0016603926787196726, 0.010319828969940537)"
      ]
     },
     "execution_count": 16,
     "metadata": {},
     "output_type": "execute_result"
    }
   ],
   "source": [
    "#use lstsq to fit the data\n",
    "X = np.vstack([np.ones(len(XOM)-2),XOM['return'][2:]]).T\n",
    "a, b  = np.linalg.lstsq(X,AMZN['return'][1:])[0]\n",
    "a, b"
   ]
  },
  {
   "cell_type": "code",
   "execution_count": 129,
   "metadata": {},
   "outputs": [
    {
     "data": {
      "text/plain": [
       "Text(0, 0.5, 'AMZN')"
      ]
     },
     "execution_count": 129,
     "metadata": {},
     "output_type": "execute_result"
    },
    {
     "data": {
      "image/png": "[encoded data removed]",
      "text/plain": [
       "<Figure size 432x288 with 1 Axes>"
      ]
     },
     "metadata": {},
     "output_type": "display_data"
    }
   ],
   "source": [
    "x = np.linspace(-0.06,0.06,100)\n",
    "\n",
    "plt.scatter(XOM['return'][1:],AMZN['return'])\n",
    "plt.plot(x,a+b*x,color='r')\n",
    "plt.xlabel('XOM',fontsize=12)\n",
    "plt.ylabel('AMZN',fontsize=12)"
   ]
  },
  {
   "cell_type": "markdown",
   "metadata": {},
   "source": [
    "Compute the residual return series of AMZN"
   ]
  },
  {
   "cell_type": "code",
   "execution_count": 19,
   "metadata": {
    "scrolled": true
   },
   "outputs": [],
   "source": [
    "residual=[]\n",
    "for i in range(2,len(AMZN['return'])):\n",
    "    residual.append(AMZN['return'][i] - b*XOM['return'][i] - a)"
   ]
  },
  {
   "cell_type": "markdown",
   "metadata": {},
   "source": [
    "Do a histrogram plot of the residual returns of AMZN"
   ]
  },
  {
   "cell_type": "code",
   "execution_count": 20,
   "metadata": {},
   "outputs": [
    {
     "data": {
      "text/plain": [
       "(array([ 1.,  0.,  0.,  1.,  1.,  0.,  1.,  1.,  3.,  5.,  4.,  5.,  8.,\n",
       "         8., 21., 24., 59., 79., 96., 64., 60., 48., 29., 11., 14.,  2.,\n",
       "         4.,  4.,  0.,  2.,  0.,  0.,  0.,  0.,  0.,  0.,  0.,  0.,  0.,\n",
       "         1.,  0.,  1.,  0.,  0.,  0.,  0.,  0.,  0.,  0.,  1.]),\n",
       " array([-0.07787546, -0.07370855, -0.06954164, -0.06537474, -0.06120783,\n",
       "        -0.05704092, -0.05287402, -0.04870711, -0.0445402 , -0.0403733 ,\n",
       "        -0.03620639, -0.03203948, -0.02787258, -0.02370567, -0.01953876,\n",
       "        -0.01537186, -0.01120495, -0.00703804, -0.00287114,  0.00129577,\n",
       "         0.00546268,  0.00962958,  0.01379649,  0.0179634 ,  0.0221303 ,\n",
       "         0.02629721,  0.03046411,  0.03463102,  0.03879793,  0.04296483,\n",
       "         0.04713174,  0.05129865,  0.05546555,  0.05963246,  0.06379937,\n",
       "         0.06796627,  0.07213318,  0.07630009,  0.08046699,  0.0846339 ,\n",
       "         0.08880081,  0.09296771,  0.09713462,  0.10130153,  0.10546843,\n",
       "         0.10963534,  0.11380225,  0.11796915,  0.12213606,  0.12630297,\n",
       "         0.13046987]),\n",
       " <a list of 50 Patch objects>)"
      ]
     },
     "execution_count": 20,
     "metadata": {},
     "output_type": "execute_result"
    },
    {
     "data": {
      "image/png": "[encoded data removed]",
      "text/plain": [
       "<Figure size 432x288 with 1 Axes>"
      ]
     },
     "metadata": {},
     "output_type": "display_data"
    }
   ],
   "source": [
    "plt.hist(residual,bins=50)"
   ]
  },
  {
   "cell_type": "markdown",
   "metadata": {},
   "source": [
    "Calculate the (mean, std) of the residual returns of AMZN. These parameters will tell you the normal distribution density function to use to fit the residual distribution"
   ]
  },
  {
   "cell_type": "code",
   "execution_count": 21,
   "metadata": {},
   "outputs": [
    {
     "data": {
      "text/plain": [
       "(1.1903552470932788e-05, 0.016293688720391858)"
      ]
     },
     "execution_count": 21,
     "metadata": {},
     "output_type": "execute_result"
    }
   ],
   "source": [
    "mu = np.mean(residual)\n",
    "sigma = np.std(residual)\n",
    "mu, sigma"
   ]
  },
  {
   "cell_type": "markdown",
   "metadata": {},
   "source": [
    "Plot the \"theoretical\" normal density distribution curve together with the historgram (set option density=True). How \"normal\" is the residual distribution?"
   ]
  },
  {
   "cell_type": "code",
   "execution_count": 22,
   "metadata": {},
   "outputs": [
    {
     "data": {
      "image/png": "[encoded data removed]",
      "text/plain": [
       "<Figure size 432x288 with 1 Axes>"
      ]
     },
     "metadata": {},
     "output_type": "display_data"
    }
   ],
   "source": [
    "count, bins, ignored = plt.hist(residual, 30, density=True)\n",
    "plt.plot(bins, 1/(sigma * np.sqrt(2 * np.pi)) *\n",
    "                np.exp( - (bins - mu)**2 / (2 * sigma**2) ),\n",
    "          linewidth=2, color='r')\n",
    "plt.show()"
   ]
  }
 ],
 "metadata": {
  "kernelspec": {
   "display_name": "Python 3",
   "language": "python",
   "name": "python3"
  },
  "language_info": {
   "codemirror_mode": {
    "name": "ipython",
    "version": 3
   },
   "file_extension": ".py",
   "mimetype": "text/x-python",
   "name": "python",
   "nbconvert_exporter": "python",
   "pygments_lexer": "ipython3",
   "version": "3.7.3"
  }
 },
 "nbformat": 4,
 "nbformat_minor": 2
}
